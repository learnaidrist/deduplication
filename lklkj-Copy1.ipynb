{
 "cells": [
  {
   "cell_type": "code",
   "execution_count": 1,
   "metadata": {
    "collapsed": true
   },
   "outputs": [],
   "source": [
    "import numpy as np\n",
    "import matplotlib.pyplot as plt\n",
    "import pandas as pd\n",
    "from datetime import datetime\n",
    "from sklearn.feature_extraction.text import TfidfVectorizer\n",
    "from sklearn.metrics.pairwise import cosine_similarity\n",
    "import csv"
   ]
  },
  {
   "cell_type": "code",
   "execution_count": 2,
   "metadata": {
    "collapsed": true
   },
   "outputs": [],
   "source": [
    "data=pd.read_csv('/home/aidris/Videos/data.csv')\n",
    "data12=data.copy()"
   ]
  },
  {
   "cell_type": "code",
   "execution_count": 3,
   "metadata": {
    "collapsed": true
   },
   "outputs": [],
   "source": [
    "duplicates=data[data.duplicated()]\n"
   ]
  },
  {
   "cell_type": "code",
   "execution_count": 4,
   "metadata": {},
   "outputs": [
    {
     "name": "stderr",
     "output_type": "stream",
     "text": [
      "/home/aidris/anaconda3/lib/python3.6/site-packages/ipykernel_launcher.py:7: SettingWithCopyWarning: \n",
      "A value is trying to be set on a copy of a slice from a DataFrame.\n",
      "Try using .loc[row_indexer,col_indexer] = value instead\n",
      "\n",
      "See the caveats in the documentation: http://pandas.pydata.org/pandas-docs/stable/indexing.html#indexing-view-versus-copy\n",
      "  import sys\n"
     ]
    }
   ],
   "source": [
    "dup_data=data[(data.duplicated()==True)]\n",
    "data=data.drop_duplicates()\n",
    "\n",
    "data=pd.concat(g for _, g in data.groupby([\"dob\",'gn']) if len(g) > 1)\n",
    "data_nondup=data[data.duplicated(['dob','gn'])==False]\n",
    "\n",
    "data_nondup['label']=np.array(range(len(data_nondup)))\n",
    "data.index=np.array(range(len(data)))\n",
    "\n"
   ]
  },
  {
   "cell_type": "code",
   "execution_count": 5,
   "metadata": {
    "scrolled": true
   },
   "outputs": [
    {
     "data": {
      "text/plain": [
       "55"
      ]
     },
     "execution_count": 5,
     "metadata": {},
     "output_type": "execute_result"
    }
   ],
   "source": [
    "vectorizer=TfidfVectorizer()\n",
    "Xln=vectorizer.fit_transform(data['ln'])\n",
    "Xfn=vectorizer.fit_transform(data['fn'])\n",
    "matrixln=cosine_similarity(Xln)\n",
    "matrixfn=cosine_similarity(Xfn)\n",
    "len(matrixln)"
   ]
  },
  {
   "cell_type": "code",
   "execution_count": 6,
   "metadata": {
    "collapsed": true
   },
   "outputs": [],
   "source": [
    "#def returns the most similar \n",
    "indexesln=[]\n",
    "indexesfn=[]\n",
    "for i in range(len(matrixln)):\n",
    "    indexesln.append(np.asarray((np.where(matrixln[i]>0.2))).reshape(-1,))\n",
    "    indexesfn.append(np.asarray((np.where(matrixfn[i]>0.4))).reshape(-1,))\n",
    "#indexesln\n",
    "#indexesfn\n"
   ]
  },
  {
   "cell_type": "code",
   "execution_count": 7,
   "metadata": {
    "collapsed": true
   },
   "outputs": [],
   "source": [
    "#get the union of satisfying indexes\n",
    "indexeslnfn=[]\n",
    "indexes_nondup=[]\n",
    "for i in range(len(indexesfn)):\n",
    "    indexeslnfn.append(np.intersect1d(indexesfn[i],indexesln[i]).tolist())\n"
   ]
  },
  {
   "cell_type": "code",
   "execution_count": 8,
   "metadata": {},
   "outputs": [
    {
     "data": {
      "text/plain": [
       "[[0],\n",
       " [1],\n",
       " [2],\n",
       " [3],\n",
       " [4, 5, 6],\n",
       " [4, 5, 6],\n",
       " [4, 5, 6],\n",
       " [7],\n",
       " [8],\n",
       " [9],\n",
       " [10],\n",
       " [11],\n",
       " [12],\n",
       " [13],\n",
       " [14],\n",
       " [15],\n",
       " [16],\n",
       " [17],\n",
       " [18],\n",
       " [19],\n",
       " [20],\n",
       " [21, 50, 51],\n",
       " [22],\n",
       " [23],\n",
       " [24, 40],\n",
       " [25],\n",
       " [26],\n",
       " [27],\n",
       " [28, 29],\n",
       " [28, 29],\n",
       " [30, 38],\n",
       " [31],\n",
       " [32],\n",
       " [33, 35, 37, 44],\n",
       " [34, 45],\n",
       " [33, 35, 37, 44],\n",
       " [36],\n",
       " [33, 35, 37, 44],\n",
       " [30, 38],\n",
       " [39],\n",
       " [24, 40],\n",
       " [41, 42, 43],\n",
       " [41, 42, 43],\n",
       " [41, 42, 43],\n",
       " [33, 35, 37, 44],\n",
       " [34, 45],\n",
       " [46],\n",
       " [47],\n",
       " [48],\n",
       " [49],\n",
       " [21, 50, 51],\n",
       " [21, 50, 51],\n",
       " [52],\n",
       " [53],\n",
       " [54]]"
      ]
     },
     "execution_count": 8,
     "metadata": {},
     "output_type": "execute_result"
    }
   ],
   "source": [
    "indexeslnfn"
   ]
  },
  {
   "cell_type": "code",
   "execution_count": 9,
   "metadata": {},
   "outputs": [
    {
     "name": "stdout",
     "output_type": "stream",
     "text": [
      "4    FUNARO JONES\n",
      "5        FUNARO J\n",
      "6          FUNARO\n",
      "Name: ln, dtype: object\n",
      "\n",
      "\n",
      "4    HARRIET\n",
      "5    HARRIET\n",
      "6    HARRIET\n",
      "Name: fn, dtype: object\n",
      "21    MICHAELSON JR\n",
      "50       MICHAELSON\n",
      "51    MICHAELSON JR\n",
      "Name: ln, dtype: object\n",
      "\n",
      "\n",
      "21    ROY\n",
      "50    ROY\n",
      "51    ROY\n",
      "Name: fn, dtype: object\n",
      "24    MICHAELSON JR\n",
      "40    MICHAELSON JR\n",
      "Name: ln, dtype: object\n",
      "\n",
      "\n",
      "24    JACK\n",
      "40    JACK\n",
      "Name: fn, dtype: object\n",
      "28       CLARK\n",
      "29    CLARK JR\n",
      "Name: ln, dtype: object\n",
      "\n",
      "\n",
      "28    JOHN\n",
      "29    JOHN\n",
      "Name: fn, dtype: object\n",
      "30    MICHAELSON JR\n",
      "38    MICHAELSON JR\n",
      "Name: ln, dtype: object\n",
      "\n",
      "\n",
      "30    JOHN\n",
      "38    JOHN\n",
      "Name: fn, dtype: object\n",
      "33     BLAND JR\n",
      "35    BLAND III\n",
      "37        BLAND\n",
      "44     BLAND JR\n",
      "Name: ln, dtype: object\n",
      "\n",
      "\n",
      "33    WILLIAM\n",
      "35    WILLIAM\n",
      "37    WILLIAM\n",
      "44    WILLIAM\n",
      "Name: fn, dtype: object\n",
      "34    SHAFFER JR\n",
      "45    SHAFFER JR\n",
      "Name: ln, dtype: object\n",
      "\n",
      "\n",
      "34    WILLIAM\n",
      "45    WILLIAM\n",
      "Name: fn, dtype: object\n",
      "41    HANNA\n",
      "42    HANNA\n",
      "43    HANNA\n",
      "Name: ln, dtype: object\n",
      "\n",
      "\n",
      "41       ADDISON J\n",
      "42    ADDISON JOHN\n",
      "43         ADDISON\n",
      "Name: fn, dtype: object\n",
      "[[4, 5, 6], [21, 50, 51], [24, 40], [28, 29], [30, 38], [33, 35, 37, 44], [34, 45], [41, 42, 43]]\n"
     ]
    }
   ],
   "source": [
    "indexeslnfn=np.unique(np.array(indexeslnfn))\n",
    "# getting unique indexes componentslen(indexeslnfn[0])\n",
    "len(indexeslnfn)\n",
    "#to delete the single dims we use list comprehensions\n",
    "#as no index keeping required to check out of bounds error if using np.delete\n",
    "indexeslnfn=[i for i in indexeslnfn if len(i)>1]\n",
    "indexes_nondup.append([i for i in indexeslnfn if len(i)==1])\n",
    "#indexeslnfn\n",
    "for i in indexeslnfn:\n",
    "    print(data['ln'][i])\n",
    "    print('\\n')\n",
    "    print(data['fn'][i])\n",
    "print(indexeslnfn)"
   ]
  },
  {
   "cell_type": "code",
   "execution_count": 10,
   "metadata": {},
   "outputs": [
    {
     "name": "stdout",
     "output_type": "stream",
     "text": [
      "3    01/03/68\n",
      "4    06/12/37\n",
      "Name: dob, dtype: object\n"
     ]
    }
   ],
   "source": [
    "print(data['dob'][[3,4]])"
   ]
  },
  {
   "cell_type": "code",
   "execution_count": 11,
   "metadata": {},
   "outputs": [
    {
     "name": "stdout",
     "output_type": "stream",
     "text": [
      "[array([0, 1, 2]), array([1, 2]), array([1]), array([0, 1]), array([1]), array([3]), array([1]), array([0, 1, 2])]\n"
     ]
    }
   ],
   "source": [
    "i4=[]\n",
    "for i in range(len(indexeslnfn)):\n",
    "    i2=[]\n",
    "    i3=[]\n",
    "    for i1 in indexeslnfn[i]:\n",
    "        a=np.asarray(np.where(data['dob'][indexeslnfn[i]]==data['dob'][i1]))\n",
    "        b=np.asarray(np.where(data['gn'][indexeslnfn[i]]==data['gn'][i1]))\n",
    "        ia=np.asarray(np.intersect1d(a,b))\n",
    "    i4.append(ia)\n",
    "    #print(i2)\n",
    "    #print(i3)\n",
    "\n",
    "#indexeslnfn=[indexeslnfn[i] for i in range(len(indexeslnfn)) if len(i4[i])]\n",
    "\n",
    "#dup_indexes=np.array(indexeslnfn.copy())   \n",
    "print(i4)   "
   ]
  },
  {
   "cell_type": "code",
   "execution_count": 12,
   "metadata": {},
   "outputs": [
    {
     "data": {
      "text/plain": [
       "[[4, 5, 6],\n",
       " [21, 50, 51],\n",
       " [24, 40],\n",
       " [28, 29],\n",
       " [30, 38],\n",
       " [33, 35, 37, 44],\n",
       " [34, 45],\n",
       " [41, 42, 43]]"
      ]
     },
     "execution_count": 12,
     "metadata": {},
     "output_type": "execute_result"
    }
   ],
   "source": [
    "indexeslnfn"
   ]
  },
  {
   "cell_type": "code",
   "execution_count": 13,
   "metadata": {},
   "outputs": [
    {
     "data": {
      "text/plain": [
       "8"
      ]
     },
     "execution_count": 13,
     "metadata": {},
     "output_type": "execute_result"
    }
   ],
   "source": [
    "len(indexeslnfn)"
   ]
  },
  {
   "cell_type": "code",
   "execution_count": 14,
   "metadata": {},
   "outputs": [
    {
     "data": {
      "text/plain": [
       "8"
      ]
     },
     "execution_count": 14,
     "metadata": {},
     "output_type": "execute_result"
    }
   ],
   "source": [
    "len(i4)#;len(indexeslnfn);\n"
   ]
  },
  {
   "cell_type": "code",
   "execution_count": 15,
   "metadata": {},
   "outputs": [
    {
     "name": "stdout",
     "output_type": "stream",
     "text": [
      "[4, 5, 6, 50, 51, 40, 28, 29, 38, 44, 45, 41, 42, 43]\n"
     ]
    }
   ],
   "source": [
    "indexo=[]\n",
    "for l in range(len(indexeslnfn)):\n",
    "        for k in i4[l]:\n",
    "            if (len(indexeslnfn[l])>1):\n",
    "                indexo.append(indexeslnfn[l][k])\n",
    "print(indexo)"
   ]
  },
  {
   "cell_type": "code",
   "execution_count": 16,
   "metadata": {},
   "outputs": [],
   "source": [
    "data3=data.copy()\n",
    "final_data= data.drop(indexo)\n",
    "final_data=final_data.drop('label',axis=1)\n",
    "#for i in indexo:\n",
    "#   print(data.iloc[i])\n"
   ]
  },
  {
   "cell_type": "markdown",
   "metadata": {},
   "source": [
    "## FINAL DATASET"
   ]
  },
  {
   "cell_type": "code",
   "execution_count": 17,
   "metadata": {},
   "outputs": [
    {
     "name": "stdout",
     "output_type": "stream",
     "text": [
      "Cleaned Dataset\n",
      "\n",
      "\n",
      "               ln       dob gn        fn\n",
      "0        SMITH JR  01/03/68  F   WILLIAM\n",
      "1    ROTHMEYER JR  01/03/68  F   WILLIAM\n",
      "2         ASBY JR  01/03/68  F   WILLIAM\n",
      "3       SALTER JR  01/03/68  F   WILLIAM\n",
      "4      GRIFFIN JR  07/05/37  M      DARL\n",
      "5      GRIFFIN JR  07/05/37  M  CLIFFORD\n",
      "6      GRIFFIN JR  07/05/37  M  CLARENCE\n",
      "7     MUSTAPHA JR  07/10/37  M    HAROLD\n",
      "8     HOUGHTON JR  07/10/37  M    HAROLD\n",
      "9       MELVIN JR  07/10/37  M    HAROLD\n",
      "10      CHAVAS JR  07/10/37  M    HAROLD\n",
      "11  MICHAELSON JR  07/10/37  M    HAROLD\n",
      "12       SMITH JR  07/10/37  M    HAROLD\n",
      "13       FAGEN JR  07/10/37  M    HAROLD\n",
      "14       FAGEN JR  07/10/37  M    GEORGE\n",
      "15     GRIFFIN JR  07/10/37  M      DARH\n",
      "16          CLARK  09/02/45  M    RONALD\n",
      "17          CLARK  09/02/45  M    DONALD\n",
      "18  MICHAELSON JR  09/04/47  M       ROY\n",
      "19  MICHAELSON JR  09/04/47  M    ROBERT\n",
      "20  MICHAELSON JR  09/04/47  M       BOB\n",
      "21  MICHAELSON JR  09/06/39  M      JACK\n",
      "22      LARSON JR  09/06/39  M    HAROLD\n",
      "23    MUSTAPHA JR  11/03/47  M      OWEN\n",
      "24    MUSTAPHA JR  11/03/47  M      OWAN\n",
      "25  MICHAELSON JR  16/12/44  M      JOHN\n",
      "26        LIND JR  20/01/46  M      JOHN\n",
      "27        CAIN JR  20/01/46  M      JOHN\n",
      "28       BLAND JR  21/02/62  F   WILLIAM\n",
      "29     SHAFFER JR  21/02/62  F   WILLIAM\n",
      "30      BLAND III  21/02/62  F   WILLIAM\n",
      "31       BLAND JR  21/02/62  F      BILL\n",
      "32          BLAND  21/02/62  F   WILLIAM\n",
      "33  MICHAELSON JR  24/06/39  M     JAMES\n",
      "34      DUNCAN JR  25/10/53  F    THOMAS\n",
      "35     CARLSON JR  25/10/53  F       ROY\n",
      "36     CARLSON JR  25/10/53  F       RON\n",
      "37      DUNCAN JR  25/10/53  F       ROY\n",
      "38    HOUGHTON JR  31/01/46  M  LAWRENCE\n",
      "39        LIND JR  31/01/46  M  LAWRENCE\n",
      "40        LIND JR  31/01/46  M   KENNETH\n"
     ]
    }
   ],
   "source": [
    "#POSSIBLE UNIQUE DATASET\n",
    "print('Cleaned Dataset')\n",
    "print('\\n')\n",
    "final_data.index=np.arange(len(final_data)) #comment for maintaining the IDs\n",
    "print(final_data)\n",
    "final_data.to_csv('unique.csv')"
   ]
  },
  {
   "cell_type": "markdown",
   "metadata": {},
   "source": [
    "## IDENTIFIED DUPLICATES"
   ]
  },
  {
   "cell_type": "code",
   "execution_count": 18,
   "metadata": {
    "collapsed": true
   },
   "outputs": [
    {
     "name": "stdout",
     "output_type": "stream",
     "text": [
      "Identified Duplicates\n",
      "\n",
      "               ln       dob gn            fn  label\n",
      "0    FUNARO JONES  06/12/37  F       HARRIET    NaN\n",
      "1        FUNARO J  06/12/37  F       HARRIET    NaN\n",
      "2          FUNARO  06/12/37  F       HARRIET    NaN\n",
      "3      MICHAELSON  25/10/53  M           ROY    NaN\n",
      "4   MICHAELSON JR  25/10/53  M           ROY    NaN\n",
      "5   MICHAELSON JR  24/06/39  M          JACK    NaN\n",
      "6           CLARK  16/12/44  M          JOHN    NaN\n",
      "7        CLARK JR  16/12/44  M          JOHN    NaN\n",
      "8   MICHAELSON JR  24/06/39  M          JOHN    NaN\n",
      "9        BLAND JR  25/10/53  F       WILLIAM    NaN\n",
      "10     SHAFFER JR  25/10/53  F       WILLIAM    NaN\n",
      "11          HANNA  24/11/34  M     ADDISON J    NaN\n",
      "12          HANNA  24/11/34  M  ADDISON JOHN    NaN\n",
      "13          HANNA  24/11/34  M       ADDISON    NaN\n"
     ]
    }
   ],
   "source": [
    "#IDENTIFIED DUPLICATES\n",
    "\n",
    "print('Identified Duplicates\\n')\n",
    "identified_dup=data.iloc[indexo]\n",
    "identified_dup.index=np.arange(len(identified_dup))\n",
    "#print(data.iloc[indexo])\n",
    "print(identified_dup)\n",
    "identified_dup.to_csv('duplicates.csv')\n",
    "\n"
   ]
  },
  {
   "cell_type": "code",
   "execution_count": null,
   "metadata": {},
   "outputs": [],
   "source": []
  },
  {
   "cell_type": "code",
   "execution_count": null,
   "metadata": {},
   "outputs": [],
   "source": []
  }
 ],
 "metadata": {
  "kernelspec": {
   "display_name": "Python 3",
   "language": "python",
   "name": "python3"
  },
  "language_info": {
   "codemirror_mode": {
    "name": "ipython",
    "version": 3
   },
   "file_extension": ".py",
   "mimetype": "text/x-python",
   "name": "python",
   "nbconvert_exporter": "python",
   "pygments_lexer": "ipython3",
   "version": "3.6.3"
  }
 },
 "nbformat": 4,
 "nbformat_minor": 2
}
